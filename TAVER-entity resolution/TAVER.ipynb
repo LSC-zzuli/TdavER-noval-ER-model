{
 "cells": [
  {
   "cell_type": "code",
   "execution_count": null,
   "metadata": {
    "colab": {
     "base_uri": "https://localhost:8080/"
    },
    "executionInfo": {
     "elapsed": 3033,
     "status": "ok",
     "timestamp": 1661596576935,
     "user": {
      "displayName": "任婉婉",
      "userId": "12836956095378703070"
     },
     "user_tz": -480
    },
    "id": "Uecu-Ns3hCWp",
    "outputId": "a64808d7-0b8c-493c-cf90-7293b64728d4"
   },
   "outputs": [
    {
     "name": "stdout",
     "output_type": "stream",
     "text": [
      "Drive already mounted at /content/drive; to attempt to forcibly remount, call drive.mount(\"/content/drive\", force_remount=True).\n"
     ]
    }
   ],
   "source": [
    "# from google.colab import drive\n",
    "# drive.mount('/content/drive')"
   ]
  },
  {
   "cell_type": "markdown",
   "metadata": {
    "id": "swTg-5B3VqlJ"
   },
   "source": [
    "# Setting the file path"
   ]
  },
  {
   "cell_type": "code",
   "execution_count": null,
   "metadata": {
    "id": "fjaNyCTeg-Qm"
   },
   "outputs": [],
   "source": [
    "import os\n",
    "os.chdir(\"/content/drive/MyDrive/drive/Supplemental Material/TAVER-Entity-Resolution-main/TAVER-entity resolution\")"
   ]
  },
  {
   "cell_type": "code",
   "execution_count": null,
   "metadata": {
    "colab": {
     "base_uri": "https://localhost:8080/"
    },
    "executionInfo": {
     "elapsed": 4495,
     "status": "ok",
     "timestamp": 1661596581410,
     "user": {
      "displayName": "任婉婉",
      "userId": "12836956095378703070"
     },
     "user_tz": -480
    },
    "id": "k0jIC774g-GX",
    "outputId": "bb4c66f7-44c0-41a7-f371-5036b58d5f01"
   },
   "outputs": [
    {
     "name": "stdout",
     "output_type": "stream",
     "text": [
      "Looking in indexes: https://pypi.org/simple, https://us-python.pkg.dev/colab-wheels/public/simple/\n",
      "Requirement already satisfied: tensorflow-gpu==1.15.0 in /usr/local/lib/python3.7/dist-packages (1.15.0)\n",
      "Requirement already satisfied: numpy<2.0,>=1.16.0 in /usr/local/lib/python3.7/dist-packages (from tensorflow-gpu==1.15.0) (1.21.6)\n",
      "Requirement already satisfied: grpcio>=1.8.6 in /usr/local/lib/python3.7/dist-packages (from tensorflow-gpu==1.15.0) (1.47.0)\n",
      "Requirement already satisfied: tensorflow-estimator==1.15.1 in /usr/local/lib/python3.7/dist-packages (from tensorflow-gpu==1.15.0) (1.15.1)\n",
      "Requirement already satisfied: protobuf>=3.6.1 in /usr/local/lib/python3.7/dist-packages (from tensorflow-gpu==1.15.0) (3.17.3)\n",
      "Requirement already satisfied: absl-py>=0.7.0 in /usr/local/lib/python3.7/dist-packages (from tensorflow-gpu==1.15.0) (1.2.0)\n",
      "Requirement already satisfied: google-pasta>=0.1.6 in /usr/local/lib/python3.7/dist-packages (from tensorflow-gpu==1.15.0) (0.2.0)\n",
      "Requirement already satisfied: wrapt>=1.11.1 in /usr/local/lib/python3.7/dist-packages (from tensorflow-gpu==1.15.0) (1.14.1)\n",
      "Requirement already satisfied: gast==0.2.2 in /usr/local/lib/python3.7/dist-packages (from tensorflow-gpu==1.15.0) (0.2.2)\n",
      "Requirement already satisfied: wheel>=0.26 in /usr/local/lib/python3.7/dist-packages (from tensorflow-gpu==1.15.0) (0.37.1)\n",
      "Requirement already satisfied: six>=1.10.0 in /usr/local/lib/python3.7/dist-packages (from tensorflow-gpu==1.15.0) (1.15.0)\n",
      "Requirement already satisfied: astor>=0.6.0 in /usr/local/lib/python3.7/dist-packages (from tensorflow-gpu==1.15.0) (0.8.1)\n",
      "Requirement already satisfied: keras-preprocessing>=1.0.5 in /usr/local/lib/python3.7/dist-packages (from tensorflow-gpu==1.15.0) (1.1.2)\n",
      "Requirement already satisfied: tensorboard<1.16.0,>=1.15.0 in /usr/local/lib/python3.7/dist-packages (from tensorflow-gpu==1.15.0) (1.15.0)\n",
      "Requirement already satisfied: keras-applications>=1.0.8 in /usr/local/lib/python3.7/dist-packages (from tensorflow-gpu==1.15.0) (1.0.8)\n",
      "Requirement already satisfied: termcolor>=1.1.0 in /usr/local/lib/python3.7/dist-packages (from tensorflow-gpu==1.15.0) (1.1.0)\n",
      "Requirement already satisfied: opt-einsum>=2.3.2 in /usr/local/lib/python3.7/dist-packages (from tensorflow-gpu==1.15.0) (3.3.0)\n",
      "Requirement already satisfied: h5py in /usr/local/lib/python3.7/dist-packages (from keras-applications>=1.0.8->tensorflow-gpu==1.15.0) (3.1.0)\n",
      "Requirement already satisfied: setuptools>=41.0.0 in /usr/local/lib/python3.7/dist-packages (from tensorboard<1.16.0,>=1.15.0->tensorflow-gpu==1.15.0) (57.4.0)\n",
      "Requirement already satisfied: werkzeug>=0.11.15 in /usr/local/lib/python3.7/dist-packages (from tensorboard<1.16.0,>=1.15.0->tensorflow-gpu==1.15.0) (1.0.1)\n",
      "Requirement already satisfied: markdown>=2.6.8 in /usr/local/lib/python3.7/dist-packages (from tensorboard<1.16.0,>=1.15.0->tensorflow-gpu==1.15.0) (3.4.1)\n",
      "Requirement already satisfied: importlib-metadata>=4.4 in /usr/local/lib/python3.7/dist-packages (from markdown>=2.6.8->tensorboard<1.16.0,>=1.15.0->tensorflow-gpu==1.15.0) (4.12.0)\n",
      "Requirement already satisfied: typing-extensions>=3.6.4 in /usr/local/lib/python3.7/dist-packages (from importlib-metadata>=4.4->markdown>=2.6.8->tensorboard<1.16.0,>=1.15.0->tensorflow-gpu==1.15.0) (4.1.1)\n",
      "Requirement already satisfied: zipp>=0.5 in /usr/local/lib/python3.7/dist-packages (from importlib-metadata>=4.4->markdown>=2.6.8->tensorboard<1.16.0,>=1.15.0->tensorflow-gpu==1.15.0) (3.8.1)\n",
      "Requirement already satisfied: cached-property in /usr/local/lib/python3.7/dist-packages (from h5py->keras-applications>=1.0.8->tensorflow-gpu==1.15.0) (1.5.2)\n"
     ]
    }
   ],
   "source": [
    "!pip install tensorflow-gpu==1.15.0"
   ]
  },
  {
   "cell_type": "code",
   "execution_count": null,
   "metadata": {
    "colab": {
     "base_uri": "https://localhost:8080/"
    },
    "executionInfo": {
     "elapsed": 3830,
     "status": "ok",
     "timestamp": 1661596585224,
     "user": {
      "displayName": "任婉婉",
      "userId": "12836956095378703070"
     },
     "user_tz": -480
    },
    "id": "nlSWkezfg92K",
    "outputId": "b3136a56-6d6c-498d-be0f-8837954ceca5"
   },
   "outputs": [
    {
     "name": "stdout",
     "output_type": "stream",
     "text": [
      "Looking in indexes: https://pypi.org/simple, https://us-python.pkg.dev/colab-wheels/public/simple/\n",
      "Requirement already satisfied: sentence_transformers in /usr/local/lib/python3.7/dist-packages (2.2.2)\n",
      "Requirement already satisfied: tqdm in /usr/local/lib/python3.7/dist-packages (from sentence_transformers) (4.64.0)\n",
      "Requirement already satisfied: transformers<5.0.0,>=4.6.0 in /usr/local/lib/python3.7/dist-packages (from sentence_transformers) (4.21.2)\n",
      "Requirement already satisfied: nltk in /usr/local/lib/python3.7/dist-packages (from sentence_transformers) (3.7)\n",
      "Requirement already satisfied: numpy in /usr/local/lib/python3.7/dist-packages (from sentence_transformers) (1.21.6)\n",
      "Requirement already satisfied: torch>=1.6.0 in /usr/local/lib/python3.7/dist-packages (from sentence_transformers) (1.12.1+cu113)\n",
      "Requirement already satisfied: scipy in /usr/local/lib/python3.7/dist-packages (from sentence_transformers) (1.7.3)\n",
      "Requirement already satisfied: torchvision in /usr/local/lib/python3.7/dist-packages (from sentence_transformers) (0.13.1+cu113)\n",
      "Requirement already satisfied: scikit-learn in /usr/local/lib/python3.7/dist-packages (from sentence_transformers) (1.0.2)\n",
      "Requirement already satisfied: huggingface-hub>=0.4.0 in /usr/local/lib/python3.7/dist-packages (from sentence_transformers) (0.9.1)\n",
      "Requirement already satisfied: sentencepiece in /usr/local/lib/python3.7/dist-packages (from sentence_transformers) (0.1.97)\n",
      "Requirement already satisfied: typing-extensions>=3.7.4.3 in /usr/local/lib/python3.7/dist-packages (from huggingface-hub>=0.4.0->sentence_transformers) (4.1.1)\n",
      "Requirement already satisfied: packaging>=20.9 in /usr/local/lib/python3.7/dist-packages (from huggingface-hub>=0.4.0->sentence_transformers) (21.3)\n",
      "Requirement already satisfied: importlib-metadata in /usr/local/lib/python3.7/dist-packages (from huggingface-hub>=0.4.0->sentence_transformers) (4.12.0)\n",
      "Requirement already satisfied: pyyaml>=5.1 in /usr/local/lib/python3.7/dist-packages (from huggingface-hub>=0.4.0->sentence_transformers) (6.0)\n",
      "Requirement already satisfied: requests in /usr/local/lib/python3.7/dist-packages (from huggingface-hub>=0.4.0->sentence_transformers) (2.23.0)\n",
      "Requirement already satisfied: filelock in /usr/local/lib/python3.7/dist-packages (from huggingface-hub>=0.4.0->sentence_transformers) (3.8.0)\n",
      "Requirement already satisfied: pyparsing!=3.0.5,>=2.0.2 in /usr/local/lib/python3.7/dist-packages (from packaging>=20.9->huggingface-hub>=0.4.0->sentence_transformers) (3.0.9)\n",
      "Requirement already satisfied: tokenizers!=0.11.3,<0.13,>=0.11.1 in /usr/local/lib/python3.7/dist-packages (from transformers<5.0.0,>=4.6.0->sentence_transformers) (0.12.1)\n",
      "Requirement already satisfied: regex!=2019.12.17 in /usr/local/lib/python3.7/dist-packages (from transformers<5.0.0,>=4.6.0->sentence_transformers) (2022.6.2)\n",
      "Requirement already satisfied: zipp>=0.5 in /usr/local/lib/python3.7/dist-packages (from importlib-metadata->huggingface-hub>=0.4.0->sentence_transformers) (3.8.1)\n",
      "Requirement already satisfied: joblib in /usr/local/lib/python3.7/dist-packages (from nltk->sentence_transformers) (1.1.0)\n",
      "Requirement already satisfied: click in /usr/local/lib/python3.7/dist-packages (from nltk->sentence_transformers) (7.1.2)\n",
      "Requirement already satisfied: urllib3!=1.25.0,!=1.25.1,<1.26,>=1.21.1 in /usr/local/lib/python3.7/dist-packages (from requests->huggingface-hub>=0.4.0->sentence_transformers) (1.24.3)\n",
      "Requirement already satisfied: idna<3,>=2.5 in /usr/local/lib/python3.7/dist-packages (from requests->huggingface-hub>=0.4.0->sentence_transformers) (2.10)\n",
      "Requirement already satisfied: certifi>=2017.4.17 in /usr/local/lib/python3.7/dist-packages (from requests->huggingface-hub>=0.4.0->sentence_transformers) (2022.6.15)\n",
      "Requirement already satisfied: chardet<4,>=3.0.2 in /usr/local/lib/python3.7/dist-packages (from requests->huggingface-hub>=0.4.0->sentence_transformers) (3.0.4)\n",
      "Requirement already satisfied: threadpoolctl>=2.0.0 in /usr/local/lib/python3.7/dist-packages (from scikit-learn->sentence_transformers) (3.1.0)\n",
      "Requirement already satisfied: pillow!=8.3.*,>=5.3.0 in /usr/local/lib/python3.7/dist-packages (from torchvision->sentence_transformers) (7.1.2)\n"
     ]
    }
   ],
   "source": [
    "!pip install sentence_transformers"
   ]
  },
  {
   "cell_type": "markdown",
   "metadata": {
    "id": "iaBGjh4Vg3AG"
   },
   "source": [
    "# 1. Loading data and importing library files"
   ]
  },
  {
   "cell_type": "code",
   "execution_count": null,
   "metadata": {
    "id": "_wd4Haykg3AG"
   },
   "outputs": [],
   "source": [
    "import pandas as pd\n",
    "import numpy as np\n",
    "import string\n",
    "import math\n",
    "import matplotlib.pyplot as plt\n",
    "import warnings\n",
    "warnings.filterwarnings(\"ignore\")  \n",
    "import os\n",
    "import random\n",
    "import tensorflow as tf\n",
    "import torch\n",
    "from sentence_transformers import util"
   ]
  },
  {
   "cell_type": "code",
   "execution_count": null,
   "metadata": {
    "colab": {
     "base_uri": "https://localhost:8080/"
    },
    "executionInfo": {
     "elapsed": 27,
     "status": "ok",
     "timestamp": 1661596585225,
     "user": {
      "displayName": "任婉婉",
      "userId": "12836956095378703070"
     },
     "user_tz": -480
    },
    "id": "CZBq9GZ2g3AK",
    "outputId": "8ae57e99-c58d-404e-8fa7-f42aa18d888b"
   },
   "outputs": [
    {
     "data": {
      "text/plain": [
       "((2616, 5), (2294, 5), (7417, 3), (2473, 3))"
      ]
     },
     "execution_count": 32,
     "metadata": {},
     "output_type": "execute_result"
    }
   ],
   "source": [
    "file_path = 'data/Structured/DBLP-ACM/'\n",
    "\n",
    "table_a_df = pd.read_csv(file_path + 'tableA.csv')\n",
    "table_b_df = pd.read_csv(file_path + 'tableB.csv')\n",
    "train_df = pd.read_csv(file_path + 'train.csv')\n",
    "valid_df = pd.read_csv(file_path + 'valid.csv')\n",
    "test_df = pd.read_csv(file_path + 'test.csv')\n",
    "\n",
    "table_a_df.shape, table_b_df.shape, train_df.shape, test_df.shape"
   ]
  },
  {
   "cell_type": "markdown",
   "metadata": {
    "id": "ja54AAMXg3AM"
   },
   "source": [
    "# 2 Building unsupervised time representation models and matching models"
   ]
  },
  {
   "cell_type": "code",
   "execution_count": null,
   "metadata": {
    "id": "oLOEZtIAg3AM"
   },
   "outputs": [],
   "source": [
    "import tensorflow as tf\n",
    "import numpy as np\n",
    "from tqdm import tqdm_notebook\n",
    "from matplotlib import pyplot as plt\n",
    "import matplotlib.gridspec as gridspec\n",
    "import os\n",
    "from tensorflow.contrib import slim\n",
    "from tensorflow.contrib import layers as tflayers\n",
    "from torch.autograd import Variable\n",
    "import torchvision\n",
    "import torch.utils.data as Data\n",
    "import torch\n",
    "\n",
    "from sklearn import metrics"
   ]
  },
  {
   "cell_type": "code",
   "execution_count": null,
   "metadata": {
    "id": "VHofx1-Ag3AN"
   },
   "outputs": [],
   "source": [
    "global max_batch_n, batch_index\n",
    "global LR_PRIMAL, LR_DUAL, X_dim, h_dim, z_dim, eps_dim, eps_nbasis\n",
    "global encoder, decoder, discriminator"
   ]
  },
  {
   "cell_type": "markdown",
   "metadata": {
    "id": "KuSPVrt_g3AN"
   },
   "source": [
    "## 2.1 Defining the required functions"
   ]
  },
  {
   "cell_type": "code",
   "execution_count": null,
   "metadata": {
    "id": "tiJyY25sg3AP"
   },
   "outputs": [],
   "source": [
    "def TupleEmbedding(all_sentences, sentence_embedding_model):\n",
    "    '''\n",
    "    all_sentences: 包含所有元组句子的列表\n",
    "    sentence_embedding_model: 将句子转换为句子向量的模型\n",
    "    founction：将所有的句子，转换为对应的sentence vector\n",
    "    '''\n",
    "    sentences_vector = []\n",
    "    for sen in all_sentences:\n",
    "        sentences_vector.append(sentence_embedding_model.encode(sen))\n",
    "    return np.array(sentences_vector)\n",
    "\n",
    "def GetBatchData(train_loader):\n",
    "    '''\n",
    "    传入torch的dataloader,然后生成对应的分批数据\n",
    "    '''\n",
    "    global batch_index\n",
    "    for step, (batch_x, batch_y) in enumerate(train_loader):\n",
    "        if step != batch_index:\n",
    "            continue\n",
    "        \n",
    "        sample_x = batch_x.view(BATCH_SIZE, -1).data.numpy()\n",
    "    return sample_x\n",
    "\n",
    "\n",
    "def lrelu(x, leak=0.2, name=\"lrelu\"):\n",
    "    return tf.maximum(x, leak*x)\n",
    "\n",
    "def get_zlogprob(z):\n",
    "    # temp = tf.clip_by_value(predict_1, 1e-8, 1.0)\n",
    "    logprob = -0.5 * tf.reduce_sum(z*z  + np.log(2*np.pi), [1])\n",
    "    return logprob\n",
    "\n",
    "def bit_product_sum(x, y):\n",
    "    return sum([item[0] * item[1] for item in zip(x, y)])\n",
    "\n",
    "def get_reconstr_err(de_x, x):\n",
    "    x_multi = tf.multiply(x, x)\n",
    "    de_x_multi = tf.multiply(de_x, de_x)\n",
    "    x_de_x_multi = tf.multiply(x, de_x)\n",
    "\n",
    "    x_mul_sum = tf.reduce_sum(x_multi)\n",
    "    de_x_mul_sum = tf.reduce_sum(de_x_multi)\n",
    "    x_de_mul_sum = tf.reduce_sum(x_de_x_multi)\n",
    "\n",
    "    cosine = tf.divide(x_de_mul_sum, tf.add(x_mul_sum, de_x_mul_sum))\n",
    "    reconst_err = tf.subtract(2., cosine)\n",
    "\n",
    "    return reconst_err"
   ]
  },
  {
   "cell_type": "markdown",
   "metadata": {
    "id": "RsA_E_Awg3AT"
   },
   "source": [
    "## 2.2 Building encoders, decoders and adversarial networks (discriminator)"
   ]
  },
  {
   "cell_type": "code",
   "execution_count": null,
   "metadata": {
    "id": "uW3qwBclg3AV"
   },
   "outputs": [],
   "source": [
    "def encoder_func(x):\n",
    "    size = x.shape[0]\n",
    "    # eps = tf.random_normal(tf.stack([eps_nbasis, size, eps_dim]))\n",
    "\n",
    "    net = slim.fully_connected(x, h_dim, activation_fn=tf.nn.softplus)\n",
    "    net = slim.fully_connected(net, h_dim, activation_fn=tf.nn.softplus)\n",
    "    # net = slim.dropout(net, 0.3, is_training=False)\n",
    "    # net = slim.fully_connected(net, h_dim, activation_fn=tf.nn.relu)\n",
    "    net = slim.fully_connected(net, h_dim, activation_fn=tf.nn.softplus)\n",
    "    net = slim.fully_connected(net, h_dim, activation_fn=tf.nn.softplus)\n",
    "\n",
    "    z_mean = slim.fully_connected(net, z_dim, activation_fn=None)\n",
    "    z_logstd = slim.fully_connected(net, z_dim, activation_fn=None)\n",
    "    # logstd = log(std)\n",
    "    return z_mean, z_logstd\n",
    "\n",
    "def decoder_func(z):\n",
    "    net = z\n",
    "    net = slim.fully_connected(net, h_dim, activation_fn=tf.nn.softplus)\n",
    "    net = slim.fully_connected(net, h_dim, activation_fn=tf.nn.softplus)\n",
    "    net = slim.fully_connected(net, h_dim, activation_fn=tf.nn.softplus)\n",
    "    xlogits = slim.fully_connected(net, X_dim, activation_fn=None)\n",
    "    return xlogits\n",
    "\n",
    "def discriminator_func(x, z):\n",
    "    # Theta\n",
    "    with tf.variable_scope(\"theta\"):\n",
    "        fc_argscope = slim.arg_scope([slim.fully_connected], activation_fn=lrelu)\n",
    "        with fc_argscope:\n",
    "            net = slim.fully_connected(x, 1024, scope='fc_0')\n",
    "            net = slim.fully_connected(net, 1024, scope='fc_1')\n",
    "            net = slim.fully_connected(net, 1024, scope='fc_2')\n",
    "        theta = slim.fully_connected(net, 8192, activation_fn=tf.nn.elu, scope='theta',\n",
    "                  weights_initializer=tf.truncated_normal_initializer(stddev=1e-5))\n",
    "\n",
    "    with tf.variable_scope(\"s\"):\n",
    "        fc_argscope = slim.arg_scope([slim.fully_connected],\n",
    "          activation_fn=lrelu)\n",
    "        with fc_argscope:\n",
    "            net = slim.fully_connected(z, 1024, scope='fc_0')\n",
    "            net = slim.fully_connected(net, 1024, scope='fc_1')\n",
    "            net = slim.fully_connected(net, 1024, scope='fc_2')\n",
    "        s = slim.fully_connected(net, 8192, activation_fn=None, scope='s')\n",
    "\n",
    "    with tf.variable_scope(\"xonly\"):\n",
    "        fc_argscope = slim.arg_scope([slim.fully_connected],\n",
    "          activation_fn=lrelu)\n",
    "        with fc_argscope:\n",
    "            net = slim.fully_connected(x, 1024, scope='fc_0')\n",
    "            net = slim.fully_connected(net, 1024, scope='fc_1')\n",
    "            net = slim.fully_connected(net, 1024, scope='fc_2')\n",
    "        Tx = slim.fully_connected(net, 1, activation_fn=None, scope='Tx',\n",
    "              weights_initializer=tf.truncated_normal_initializer(stddev=1e-5))\n",
    "\n",
    "    with tf.variable_scope(\"zonly\"):\n",
    "        fc_argscope = slim.arg_scope([slim.fully_connected],\n",
    "          activation_fn=lrelu)\n",
    "        with fc_argscope:\n",
    "            net = slim.fully_connected(z, 1024, scope='fc_0')\n",
    "            net = slim.fully_connected(net, 1024, scope='fc_1')\n",
    "            net = slim.fully_connected(net, 1024, scope='fc_2')\n",
    "        Tz = slim.fully_connected(net, 1, activation_fn=None, scope='Tz',\n",
    "              weights_initializer=tf.truncated_normal_initializer(stddev=1e-5))\n",
    "\n",
    "    T = tf.reduce_sum(theta * s, [1], keep_dims=True) + Tx + Tz\n",
    "    T = tf.squeeze(T, 1)\n",
    "    T += 0.5 * tf.reduce_sum(tf.square(z), [1])\n",
    "    return T\n"
   ]
  },
  {
   "cell_type": "markdown",
   "metadata": {
    "id": "JGqdJv9gg3AX"
   },
   "source": [
    "## 2.3 Constructing computational maps for entity representation model training"
   ]
  },
  {
   "cell_type": "code",
   "execution_count": null,
   "metadata": {
    "id": "4h7yUQHVg3AY"
   },
   "outputs": [],
   "source": [
    "def BuildComputationalGraph(x_real):\n",
    "    '''\n",
    "    构建计算图，输出两个损失值，和对应的参数\n",
    "    '''\n",
    "    z_sampled = tf.random_normal([BATCH_SIZE, z_dim])\n",
    "    eps = tf.random_normal([BATCH_SIZE, z_dim])\n",
    "\n",
    "    mean, logstd = encoder(x_real)\n",
    "    std = tf.exp(logstd)\n",
    "    z_real = mean + eps*std\n",
    "\n",
    "    z_mean = tf.stop_gradient(mean)\n",
    "    var = tf.multiply(std, std)\n",
    "    z_var = tf.stop_gradient(var)\n",
    "    z_std = tf.stop_gradient(std)\n",
    "\n",
    "    z_norm = (z_real - z_mean) / z_std\n",
    "    Td = discriminator(x_real, z_norm) \n",
    "    Ti = discriminator(x_real, z_sampled) \n",
    "    logz = -0.5 * tf.reduce_sum(z_real*z_real  + np.log(2*np.pi), [1])\n",
    "\n",
    "    z_var = tf.clip_by_value(z_var, 1e-8, 1.0)\n",
    "    logr = -0.5 * tf.reduce_sum(z_norm*z_norm + tf.log(z_var) + np.log(2*np.pi), [1])\n",
    "\n",
    "    decoder_out = decoder(z_real)  \n",
    "\n",
    "    c_dim = 1\n",
    "    beta = 1\n",
    "    factor = 10.0 / (X_dim * c_dim)\n",
    "\n",
    "    # # Primal loss\n",
    "    reconst_err = get_reconstr_err(decoder_out, x_real)\n",
    "    KL = Td + logr - logz\n",
    "    ELBO = reconst_err + KL\n",
    "    loss_primal = factor * tf.reduce_mean(3*reconst_err + beta*KL)\n",
    "\n",
    "    # Mean values\n",
    "    ELBO_mean = tf.reduce_mean(ELBO)\n",
    "    KL_mean = tf.reduce_mean(KL)\n",
    "    reconst_err_mean = tf.reduce_mean(reconst_err)\n",
    "\n",
    "    # Dual loss\n",
    "    d_loss_d = tf.reduce_mean(\n",
    "      tf.nn.sigmoid_cross_entropy_with_logits(logits=Td, labels=tf.ones_like(Td)))\n",
    "    d_loss_i = tf.reduce_mean(\n",
    "      tf.nn.sigmoid_cross_entropy_with_logits(logits=Ti, labels=tf.zeros_like(Ti)))\n",
    "    loss_dual = d_loss_i + d_loss_d\n",
    "    \n",
    "    qvars = tf.get_collection(tf.GraphKeys.TRAINABLE_VARIABLES, \"encoder\")\n",
    "    pvars = tf.get_collection(tf.GraphKeys.TRAINABLE_VARIABLES, \"decoder\")\n",
    "    dvars = tf.get_collection(tf.GraphKeys.TRAINABLE_VARIABLES, \"discriminator\")\n",
    "\n",
    "    td = tf.reduce_mean(Td)\n",
    "\n",
    "    return loss_primal, loss_dual, pvars+qvars, dvars, ELBO_mean, reconst_err_mean, KL_mean,td\n",
    "\n",
    "def GetTrainOp(loss_primal, loss_dual, vars_primal, vars_dual):\n",
    "    learning_rate = LR_PRIMAL\n",
    "    learning_rate_adversary = LR_DUAL\n",
    "\n",
    "    # Train step\n",
    "    primal_optimizer = tf.train.AdamOptimizer(learning_rate, use_locking=True, beta1=0.5)\n",
    "    adversary_optimizer = tf.train.AdamOptimizer(learning_rate_adversary, use_locking=True, beta1=0.5)\n",
    "\n",
    "    primal_grads = primal_optimizer.compute_gradients(loss_primal, var_list=vars_primal)\n",
    "    adversary_grads = adversary_optimizer.compute_gradients(loss_dual, var_list=vars_dual)\n",
    "\n",
    "    primal_grads = [(grad, var) for grad, var in primal_grads if grad is not None]\n",
    "    adversary_grads = [(grad, var) for grad, var in adversary_grads if grad is not None]\n",
    "\n",
    "    allgrads = [grad for grad, var in primal_grads + adversary_grads]\n",
    "    with tf.control_dependencies(allgrads):\n",
    "        primal_train_step = primal_optimizer.apply_gradients(primal_grads)\n",
    "        adversary_train_step = adversary_optimizer.apply_gradients(adversary_grads)\n",
    "\n",
    "    train_op = tf.group(primal_train_step, adversary_train_step)\n",
    "\n",
    "    return train_op"
   ]
  },
  {
   "cell_type": "markdown",
   "metadata": {
    "id": "hMe_632XXx_8"
   },
   "source": [
    "## 2.4 Define the required functions and read the embedding vector"
   ]
  },
  {
   "cell_type": "code",
   "execution_count": null,
   "metadata": {
    "id": "qLyiUpA5g3Aa"
   },
   "outputs": [],
   "source": [
    "def Get2_WD(a_e, a_v, b_e, b_v):\n",
    "    '''\n",
    "    传入批量的两个多元高斯分布的均值和方差,(batch_size, z_dim)\n",
    "    计算这一批多元高斯分布的平均距离,根据是否匹配，分别计算距离\n",
    "    和对应的距离向量\n",
    "    '''\n",
    "    ab_e = tf.subtract(a_e, b_e)\n",
    "    ab_v = tf.subtract(a_v, b_v)\n",
    "\n",
    "    ab_e2 = tf.multiply(ab_e, ab_e)\n",
    "    ab_v2 = tf.multiply(ab_v, ab_v)\n",
    "\n",
    "    e_v = tf.add(ab_e2, ab_v2)\n",
    "    e_v_sum = tf.reduce_mean(e_v, 1)\n",
    "\n",
    "    return e_v_sum, e_v\n",
    "\n",
    "def ClassifyModel(x):\n",
    "    net = x\n",
    "    h_dim = 300\n",
    "    net = slim.fully_connected(net, h_dim, activation_fn=tf.nn.relu)\n",
    "    net = slim.dropout(net, 0.3, is_training=False)\n",
    "\n",
    "    net = slim.fully_connected(net, h_dim, activation_fn=tf.nn.relu)\n",
    "    net = slim.dropout(net, 0.3, is_training=False)\n",
    "\n",
    "    net = slim.fully_connected(net, h_dim, activation_fn=tf.nn.relu)\n",
    "    net = slim.dropout(net, 0.3, is_training=False)\n",
    "\n",
    "    net = slim.fully_connected(net, h_dim, activation_fn=tf.nn.relu)\n",
    "\n",
    "    prediction = slim.fully_connected(net, 2, activation_fn=tf.nn.softmax)\n",
    "    return prediction\n",
    "\n",
    "classify_model = tf.make_template('ClassifyModel', ClassifyModel)\n",
    "\n"
   ]
  },
  {
   "cell_type": "code",
   "execution_count": null,
   "metadata": {
    "colab": {
     "base_uri": "https://localhost:8080/"
    },
    "executionInfo": {
     "elapsed": 20637,
     "status": "ok",
     "timestamp": 1661596605848,
     "user": {
      "displayName": "任婉婉",
      "userId": "12836956095378703070"
     },
     "user_tz": -480
    },
    "id": "rLLj6_5Hg3Ab",
    "outputId": "56a5fe41-c0f2-460d-dc3b-bd739e78631d"
   },
   "outputs": [
    {
     "name": "stdout",
     "output_type": "stream",
     "text": [
      "(4910, 768)\n"
     ]
    }
   ],
   "source": [
    "X = []\n",
    "with open(file_path + 'X_array.txt', 'r') as fp:\n",
    "    temp = fp.readlines()\n",
    "for item in temp:\n",
    "    s = item.strip('\\n')\n",
    "    slist = s.split()\n",
    "    slist = [eval(i) for i in slist]\n",
    "    X.append(slist)\n",
    "X = np.array(X)\n",
    "X = torch.FloatTensor(X).data.numpy()\n",
    "print(X.shape)\n",
    "sentences_vector = X"
   ]
  },
  {
   "cell_type": "code",
   "execution_count": null,
   "metadata": {
    "colab": {
     "base_uri": "https://localhost:8080/"
    },
    "executionInfo": {
     "elapsed": 24,
     "status": "ok",
     "timestamp": 1661596605848,
     "user": {
      "displayName": "任婉婉",
      "userId": "12836956095378703070"
     },
     "user_tz": -480
    },
    "id": "U-kynMzHg3Ac",
    "outputId": "62e51b63-487d-4b4b-a71e-678dac52ed4b"
   },
   "outputs": [
    {
     "name": "stdout",
     "output_type": "stream",
     "text": [
      "(4443, 768)\n"
     ]
    }
   ],
   "source": [
    "a_id_list = []\n",
    "b_id_list = []\n",
    "for i in range(train_df.shape[0]):\n",
    "    a_id_list.append(train_df.loc[i, 'ltable_id'])\n",
    "    b_id_list.append(train_df.loc[i, 'rtable_id'])\n",
    "for i in range(test_df.shape[0]):\n",
    "    a_id_list.append(test_df.loc[i, 'ltable_id'])\n",
    "    b_id_list.append(test_df.loc[i, 'rtable_id'])\n",
    "\n",
    "    \n",
    "a_id_list = list(set(a_id_list))\n",
    "b_id_list = list(set(b_id_list))\n",
    "    \n",
    "X_train_test = []\n",
    "for a_id in a_id_list:\n",
    "    X_train_test.append(sentences_vector[a_id])\n",
    "for b_id in b_id_list:\n",
    "    X_train_test.append(sentences_vector[table_a_df.shape[0] + b_id])\n",
    "\n",
    "X_train_test = np.array(X_train_test)\n",
    "X_train_test = torch.FloatTensor(X_train_test).data.numpy()\n",
    "print(X_train_test.shape)"
   ]
  },
  {
   "cell_type": "code",
   "execution_count": null,
   "metadata": {
    "id": "WdE2Tpjxg3Ad"
   },
   "outputs": [],
   "source": [
    "## For large data sets, eg:DBLP-ACM, DBLP-Scholar, iTunes-Amazon\n",
    "avb_train = X_train_test \n",
    "## For small data sets\n",
    "# avb_train = X"
   ]
  },
  {
   "cell_type": "code",
   "execution_count": null,
   "metadata": {
    "id": "yDGzOBi1g3Ae"
   },
   "outputs": [],
   "source": [
    "BATCH_SIZE = 20\n",
    "Y_fake = torch.linspace(1, 100, avb_train.shape[0])\n",
    "torch_dataset = Data.TensorDataset(torch.FloatTensor(avb_train), Y_fake)\n",
    "\n",
    "train_loader = Data.DataLoader(\n",
    "    dataset=torch_dataset,\n",
    "    batch_size=BATCH_SIZE,\n",
    "    shuffle=True,\n",
    ")\n",
    "\n",
    "## 定义超参数\n",
    "X_dim = avb_train.shape[1]\n",
    "h_dim = 300\n",
    "z_dim = 128\n",
    "eps_dim = 32\n",
    "eps_nbasis = 16\n",
    "\n",
    "# 获取模型变量\n",
    "encoder = tf.make_template('encoder', encoder_func)\n",
    "decoder = tf.make_template('decoder', decoder_func)\n",
    "discriminator = tf.make_template('discriminator', discriminator_func)\n",
    "\n",
    "# 构建计算图\n",
    "LR_PRIMAL = 1e-5\n",
    "LR_DUAL = 2e-5\n",
    "\n",
    "x_real = tf.placeholder(tf.float32, shape=[BATCH_SIZE, X_dim])\n",
    "loss_primal, loss_dual, vars_primal, vars_dual, ELBO_mean, reconst_err_mean, KL_mean,td = BuildComputationalGraph(x_real)\n",
    "train_op1 = GetTrainOp(loss_primal, loss_dual, vars_primal, vars_dual)"
   ]
  },
  {
   "cell_type": "code",
   "execution_count": null,
   "metadata": {
    "id": "7ZxHO9PSg3Af"
   },
   "outputs": [],
   "source": [
    "sentences_vector = X\n",
    "pairs_0, pairs_1 = [], []\n",
    "pairs_0.extend(train_df[train_df['label'] == 0].values.tolist())\n",
    "pairs_1.extend(train_df[train_df['label'] == 1].values.tolist())"
   ]
  },
  {
   "cell_type": "code",
   "execution_count": null,
   "metadata": {
    "id": "UXKvE6feg3Af"
   },
   "outputs": [],
   "source": [
    "global id_0, id_1, num_0, num_1, len_0, len_1\n",
    "id_0, id_1 = 0, 0\n",
    "id_all = 0\n",
    "num_0, num_1 = 15, 5\n",
    "total_num01 = num_0 + num_1\n",
    "len_0, len_1 = len(pairs_0), len(pairs_1)\n",
    "# len_all = len(pairs_all)\n",
    "\n",
    "\n",
    "def GetBatchData_2(sentences_vector):\n",
    "    '''\n",
    "    新的批数据生产函数\n",
    "    '''\n",
    "    global id_0, id_1, num_0, num_1, len_0, len_1, len_all, id_all\n",
    "    \n",
    "#     len_0 = len_0 * 1 // 6\n",
    "#     len_1 = len_1 * 1 // 6\n",
    "    \n",
    "    x_a, x_b, y = [], [], []\n",
    "\n",
    " \n",
    "    for i in range(num_0):\n",
    "        id_0 = (id_0 + 1) % len_0\n",
    "        x_a.append(sentences_vector[int(pairs_0[id_0][0])])\n",
    "        x_b.append(sentences_vector[int(table_a_df.shape[0] + pairs_0[id_0][1])])\n",
    "        y.append(0)\n",
    "        \n",
    "    for i in range(num_1):\n",
    "        id_1 = (id_1 + 1) % len_1\n",
    "        x_a.append(sentences_vector[int(pairs_1[id_1][0])])\n",
    "        x_b.append(sentences_vector[int(table_a_df.shape[0] + pairs_1[id_1][1])])\n",
    "        y.append(1)\n",
    "    \n",
    "    x_a = np.array(x_a).reshape(total_num01, -1)\n",
    "    x_b = np.array(x_b).reshape(total_num01, -1)\n",
    "    y = np.array(y).reshape(total_num01, -1)\n",
    "    \n",
    "    return x_a, x_b, y"
   ]
  },
  {
   "cell_type": "markdown",
   "metadata": {
    "id": "9A0xeNB9YfQT"
   },
   "source": [
    "## 2.5 Constructing computational maps for binary classification model (matching model) training"
   ]
  },
  {
   "cell_type": "code",
   "execution_count": null,
   "metadata": {
    "id": "YUiGXF4ng3Ag"
   },
   "outputs": [],
   "source": [
    "def TrainClassifyModel(x_a, x_b, y):\n",
    "    # Encoder\n",
    "    ez_a, logstd_a = encoder(x_a)\n",
    "    ez_b, logstd_b = encoder(x_b)\n",
    "    \n",
    "    vz_a = tf.exp(logstd_a)\n",
    "    vz_b = tf.exp(logstd_b)\n",
    "\n",
    "    # 2-WassersteinDistance, (batch_size, 1), (batch_size, z_dim)\n",
    "    WD_disc, WD_vector = Get2_WD(ez_a, vz_a, ez_b, vz_b)\n",
    "\n",
    "    prediction = classify_model(WD_vector)\n",
    "    predict_0 = tf.slice(prediction, [0,0],[-1,1])\n",
    "    predict_1 = tf.slice(prediction, [0,1],[-1,1])\n",
    "\n",
    "    \n",
    "    M = 0.5  \n",
    "    class_w = 3.0  \n",
    "    \n",
    "    predict_1 = tf.clip_by_value(predict_1, 1e-8, 1.0)\n",
    "    predict_0 = tf.clip_by_value(predict_0, 1e-8, 1.0)\n",
    "    loss_1 = -tf.add(tf.multiply(class_w*y, tf.log(predict_1)), tf.multiply(1*(1.0-y), tf.log(predict_0)))\n",
    "    loss_2 = tf.add(tf.multiply(class_w*y, WD_disc), tf.multiply(1.0-y, tf.maximum(0.0,M-WD_disc)))\n",
    "\n",
    "    loss_1 = tf.reduce_mean(loss_1)\n",
    "    loss_2 = tf.reduce_mean(loss_2)\n",
    "    total_loss = loss_1 + loss_2\n",
    "\n",
    "    \n",
    "    encoder_vars = tf.get_collection(tf.GraphKeys.TRAINABLE_VARIABLES, \"encoder\")\n",
    "    classify_vars = tf.get_collection(tf.GraphKeys.TRAINABLE_VARIABLES, \"ClassifyModel\")\n",
    "\n",
    "    train_op2 = GetTrainOp(2*loss_1, 1*loss_2, encoder_vars+classify_vars, encoder_vars)\n",
    "\n",
    "    return train_op2, loss_1, loss_2\n",
    "\n",
    "LR_PRIMAL = 1e-5\n",
    "LR_DUAL = 2e-5\n",
    "\n",
    "x_a = tf.placeholder(tf.float32, shape=[total_num01, X_dim])\n",
    "x_b = tf.placeholder(tf.float32, shape=[total_num01, X_dim])\n",
    "y = tf.placeholder(tf.float32, shape=[total_num01, 1])\n",
    "train_op2, loss_1, loss_2 = TrainClassifyModel(x_a, x_b, y)"
   ]
  },
  {
   "cell_type": "markdown",
   "metadata": {
    "id": "TjqaLAo5Zpw8"
   },
   "source": [
    "# 3 Model Training"
   ]
  },
  {
   "attachments": {},
   "cell_type": "markdown",
   "metadata": {
    "id": "qnYGkRisaVVw"
   },
   "source": [
    "## 3.1 Training unsupervised entity representation models"
   ]
  },
  {
   "cell_type": "code",
   "execution_count": null,
   "metadata": {
    "colab": {
     "base_uri": "https://localhost:8080/",
     "height": 49,
     "referenced_widgets": [
      "324816bb138b46b28ee043d0917d73eb",
      "3fa169de77b94db0a6c0729206a22606",
      "04d7c7b94dbb4146aa194dc003c391be",
      "a51ba2a7521749a2b5862c2a875a3ae6",
      "de7c55dbe4414ffb98699988da197013",
      "8dbe397189a34bb795b01098dd87f1b8",
      "bb87430cf1324e59b9272e6b2016893e",
      "097bcf6601d44ecfb3615bc1d847d189",
      "a5249c87367148d78d82dce93af2353d",
      "36323f5f48a44b79aae97a97f2becd78",
      "49d6b44cdcd54e0ea6375e65fd0c4cea"
     ]
    },
    "executionInfo": {
     "elapsed": 815042,
     "status": "ok",
     "timestamp": 1661597424649,
     "user": {
      "displayName": "任婉婉",
      "userId": "12836956095378703070"
     },
     "user_tz": -480
    },
    "id": "9UccgN0Jg3Ag",
    "outputId": "3cf708c3-eb55-4208-ddcb-01fe0083d528"
   },
   "outputs": [
    {
     "data": {
      "application/vnd.jupyter.widget-view+json": {
       "model_id": "324816bb138b46b28ee043d0917d73eb",
       "version_major": 2,
       "version_minor": 0
      },
      "text/plain": [
       "  0%|          | 0/13320 [00:00<?, ?it/s]"
      ]
     },
     "metadata": {},
     "output_type": "display_data"
    }
   ],
   "source": [
    "sess = tf.InteractiveSession()  \n",
    "sess.run(tf.global_variables_initializer())  \n",
    "\n",
    "batch_index = 0\n",
    "max_batch_n = avb_train.shape[0] // BATCH_SIZE\n",
    "progress = tqdm_notebook(range(60*max_batch_n))\n",
    "for i in progress:\n",
    "    x = GetBatchData(train_loader)\n",
    "    batch_index = (batch_index + 1) % max_batch_n\n",
    "\n",
    "    # sess.run(train_op1)\n",
    "    _,loss_p,loss_d, r_e,kl,td1 = sess.run([train_op1,loss_primal,loss_dual,reconst_err_mean,KL_mean,td], \n",
    "                                           feed_dict={x_real:x})\n",
    "    progress.set_description('loss_primal= %.4f, loss_dual= %.4f, re=%.4f - ' % (loss_p,loss_d,r_e))"
   ]
  },
  {
   "cell_type": "markdown",
   "metadata": {
    "id": "K5YwAqbbg3Ah"
   },
   "source": [
    "*      loss_primal= 0.0853, loss_dual= 2.0841, re=1.8313"
   ]
  },
  {
   "cell_type": "markdown",
   "metadata": {
    "id": "474NnHiiab3l"
   },
   "source": [
    "## 3.2 Training matching models"
   ]
  },
  {
   "cell_type": "code",
   "execution_count": null,
   "metadata": {
    "id": "v_GzWKh4g3Ah"
   },
   "outputs": [],
   "source": [
    "sentences_vector = X\n",
    "X_a = []\n",
    "X_b = []\n",
    "for i in range(test_df.shape[0]):\n",
    "    a_id = test_df.loc[i, 'ltable_id']\n",
    "    b_id = test_df.loc[i, 'rtable_id']\n",
    "    X_a.append(sentences_vector[a_id])\n",
    "    X_b.append(sentences_vector[table_a_df.shape[0] + b_id])\n",
    "X_a = np.array(X_a)\n",
    "X_b = np.array(X_b)\n",
    "\n",
    "Y = test_df['label'].values"
   ]
  },
  {
   "cell_type": "code",
   "execution_count": null,
   "metadata": {
    "id": "pnAELW7wg3Ah"
   },
   "outputs": [],
   "source": [
    "F1,P,R = 0,0,0"
   ]
  },
  {
   "cell_type": "code",
   "execution_count": null,
   "metadata": {
    "colab": {
     "base_uri": "https://localhost:8080/",
     "height": 623,
     "referenced_widgets": [
      "6c36456fa80749b6981c1b01abbba7b2",
      "372037dc87064cfb83a1095e4fecdd4b",
      "e23479babb1348edaad08a29d936e40b",
      "1153eb49894e421eb475fc687e1c1a8a",
      "2e804e8b78e843a086d97970879bca16",
      "135973760e664d73a59a5ab9d32c98a3",
      "cf096de524da47e8a8d5b0e1f373ad4b",
      "c603c49e8f1b4e5497e38a7a08d1fc8b",
      "567ed994520a441fa3a30ec8c0aafe6f",
      "468189a1851c442fad560c6a1b12daa7",
      "a89197477c5640999bc1825eabe79152"
     ]
    },
    "executionInfo": {
     "elapsed": 7234634,
     "status": "error",
     "timestamp": 1661604659235,
     "user": {
      "displayName": "任婉婉",
      "userId": "12836956095378703070"
     },
     "user_tz": -480
    },
    "id": "QXUtFdOTg3Ah",
    "outputId": "25864c33-6cf9-4aea-815a-ec2685b7f24e"
   },
   "outputs": [
    {
     "data": {
      "application/vnd.jupyter.widget-view+json": {
       "model_id": "6c36456fa80749b6981c1b01abbba7b2",
       "version_major": 2,
       "version_minor": 0
      },
      "text/plain": [
       "  0%|          | 0/7400000 [00:00<?, ?it/s]"
      ]
     },
     "metadata": {},
     "output_type": "display_data"
    },
    {
     "name": "stdout",
     "output_type": "stream",
     "text": [
      "epoch = 0, precision = 0.319, recall = 0.982, f1_score = 0.4820\n",
      "epoch = 1850, precision = 0.964, recall = 0.966, f1_score = 0.9651\n",
      "epoch = 5550, precision = 0.986, recall = 0.955, f1_score = 0.9703\n",
      "epoch = 11100, precision = 0.963, recall = 0.984, f1_score = 0.9733\n",
      "epoch = 12950, precision = 0.965, recall = 0.986, f1_score = 0.9755\n",
      "epoch = 16650, precision = 0.969, recall = 0.984, f1_score = 0.9765\n",
      "epoch = 24050, precision = 0.989, recall = 0.973, f1_score = 0.9807\n",
      "epoch = 37000, precision = 0.995, recall = 0.971, f1_score = 0.9829\n",
      "epoch = 88800, precision = 0.989, recall = 0.982, f1_score = 0.9853\n",
      "epoch = 127650, precision = 0.980, recall = 0.991, f1_score = 0.9854\n",
      "epoch = 186850, precision = 0.993, recall = 0.980, f1_score = 0.9864\n",
      "epoch = 223850, precision = 0.987, recall = 0.991, f1_score = 0.9888\n"
     ]
    },
    {
     "ename": "KeyboardInterrupt",
     "evalue": "ignored",
     "output_type": "error",
     "traceback": [
      "\u001b[0;31m---------------------------------------------------------------------------\u001b[0m",
      "\u001b[0;31mKeyboardInterrupt\u001b[0m                         Traceback (most recent call last)",
      "\u001b[0;32m<ipython-input-50-826585be82df>\u001b[0m in \u001b[0;36m<module>\u001b[0;34m\u001b[0m\n\u001b[1;32m     13\u001b[0m \u001b[0;31m#     print(Xa.shape, Xb.shape, Yy.shape)\u001b[0m\u001b[0;34m\u001b[0m\u001b[0;34m\u001b[0m\u001b[0;34m\u001b[0m\u001b[0m\n\u001b[1;32m     14\u001b[0m \u001b[0;34m\u001b[0m\u001b[0m\n\u001b[0;32m---> 15\u001b[0;31m     \u001b[0m_\u001b[0m\u001b[0;34m,\u001b[0m \u001b[0mloss1\u001b[0m\u001b[0;34m,\u001b[0m \u001b[0mloss2\u001b[0m \u001b[0;34m=\u001b[0m \u001b[0msess\u001b[0m\u001b[0;34m.\u001b[0m\u001b[0mrun\u001b[0m\u001b[0;34m(\u001b[0m\u001b[0;34m[\u001b[0m\u001b[0mtrain_op2\u001b[0m\u001b[0;34m,\u001b[0m \u001b[0mloss_1\u001b[0m\u001b[0;34m,\u001b[0m \u001b[0mloss_2\u001b[0m\u001b[0;34m]\u001b[0m\u001b[0;34m,\u001b[0m \u001b[0mfeed_dict\u001b[0m\u001b[0;34m=\u001b[0m\u001b[0;34m{\u001b[0m\u001b[0mx_a\u001b[0m\u001b[0;34m:\u001b[0m\u001b[0mXa\u001b[0m\u001b[0;34m,\u001b[0m \u001b[0mx_b\u001b[0m\u001b[0;34m:\u001b[0m\u001b[0mXb\u001b[0m\u001b[0;34m,\u001b[0m \u001b[0my\u001b[0m\u001b[0;34m:\u001b[0m\u001b[0mYy\u001b[0m\u001b[0;34m}\u001b[0m\u001b[0;34m)\u001b[0m\u001b[0;34m\u001b[0m\u001b[0;34m\u001b[0m\u001b[0m\n\u001b[0m\u001b[1;32m     16\u001b[0m     \u001b[0mprogress\u001b[0m\u001b[0;34m.\u001b[0m\u001b[0mset_description\u001b[0m\u001b[0;34m(\u001b[0m\u001b[0;34m'loss1 = %.5f, loss2 = %.4f - '\u001b[0m\u001b[0;34m%\u001b[0m\u001b[0;34m(\u001b[0m\u001b[0mloss1\u001b[0m\u001b[0;34m,\u001b[0m\u001b[0mloss2\u001b[0m\u001b[0;34m)\u001b[0m\u001b[0;34m)\u001b[0m\u001b[0;34m\u001b[0m\u001b[0;34m\u001b[0m\u001b[0m\n\u001b[1;32m     17\u001b[0m \u001b[0;34m\u001b[0m\u001b[0m\n",
      "\u001b[0;32m/usr/local/lib/python3.7/dist-packages/tensorflow_core/python/client/session.py\u001b[0m in \u001b[0;36mrun\u001b[0;34m(self, fetches, feed_dict, options, run_metadata)\u001b[0m\n\u001b[1;32m    954\u001b[0m     \u001b[0;32mtry\u001b[0m\u001b[0;34m:\u001b[0m\u001b[0;34m\u001b[0m\u001b[0;34m\u001b[0m\u001b[0m\n\u001b[1;32m    955\u001b[0m       result = self._run(None, fetches, feed_dict, options_ptr,\n\u001b[0;32m--> 956\u001b[0;31m                          run_metadata_ptr)\n\u001b[0m\u001b[1;32m    957\u001b[0m       \u001b[0;32mif\u001b[0m \u001b[0mrun_metadata\u001b[0m\u001b[0;34m:\u001b[0m\u001b[0;34m\u001b[0m\u001b[0;34m\u001b[0m\u001b[0m\n\u001b[1;32m    958\u001b[0m         \u001b[0mproto_data\u001b[0m \u001b[0;34m=\u001b[0m \u001b[0mtf_session\u001b[0m\u001b[0;34m.\u001b[0m\u001b[0mTF_GetBuffer\u001b[0m\u001b[0;34m(\u001b[0m\u001b[0mrun_metadata_ptr\u001b[0m\u001b[0;34m)\u001b[0m\u001b[0;34m\u001b[0m\u001b[0;34m\u001b[0m\u001b[0m\n",
      "\u001b[0;32m/usr/local/lib/python3.7/dist-packages/tensorflow_core/python/client/session.py\u001b[0m in \u001b[0;36m_run\u001b[0;34m(self, handle, fetches, feed_dict, options, run_metadata)\u001b[0m\n\u001b[1;32m   1178\u001b[0m     \u001b[0;32mif\u001b[0m \u001b[0mfinal_fetches\u001b[0m \u001b[0;32mor\u001b[0m \u001b[0mfinal_targets\u001b[0m \u001b[0;32mor\u001b[0m \u001b[0;34m(\u001b[0m\u001b[0mhandle\u001b[0m \u001b[0;32mand\u001b[0m \u001b[0mfeed_dict_tensor\u001b[0m\u001b[0;34m)\u001b[0m\u001b[0;34m:\u001b[0m\u001b[0;34m\u001b[0m\u001b[0;34m\u001b[0m\u001b[0m\n\u001b[1;32m   1179\u001b[0m       results = self._do_run(handle, final_targets, final_fetches,\n\u001b[0;32m-> 1180\u001b[0;31m                              feed_dict_tensor, options, run_metadata)\n\u001b[0m\u001b[1;32m   1181\u001b[0m     \u001b[0;32melse\u001b[0m\u001b[0;34m:\u001b[0m\u001b[0;34m\u001b[0m\u001b[0;34m\u001b[0m\u001b[0m\n\u001b[1;32m   1182\u001b[0m       \u001b[0mresults\u001b[0m \u001b[0;34m=\u001b[0m \u001b[0;34m[\u001b[0m\u001b[0;34m]\u001b[0m\u001b[0;34m\u001b[0m\u001b[0;34m\u001b[0m\u001b[0m\n",
      "\u001b[0;32m/usr/local/lib/python3.7/dist-packages/tensorflow_core/python/client/session.py\u001b[0m in \u001b[0;36m_do_run\u001b[0;34m(self, handle, target_list, fetch_list, feed_dict, options, run_metadata)\u001b[0m\n\u001b[1;32m   1357\u001b[0m     \u001b[0;32mif\u001b[0m \u001b[0mhandle\u001b[0m \u001b[0;32mis\u001b[0m \u001b[0;32mNone\u001b[0m\u001b[0;34m:\u001b[0m\u001b[0;34m\u001b[0m\u001b[0;34m\u001b[0m\u001b[0m\n\u001b[1;32m   1358\u001b[0m       return self._do_call(_run_fn, feeds, fetches, targets, options,\n\u001b[0;32m-> 1359\u001b[0;31m                            run_metadata)\n\u001b[0m\u001b[1;32m   1360\u001b[0m     \u001b[0;32melse\u001b[0m\u001b[0;34m:\u001b[0m\u001b[0;34m\u001b[0m\u001b[0;34m\u001b[0m\u001b[0m\n\u001b[1;32m   1361\u001b[0m       \u001b[0;32mreturn\u001b[0m \u001b[0mself\u001b[0m\u001b[0;34m.\u001b[0m\u001b[0m_do_call\u001b[0m\u001b[0;34m(\u001b[0m\u001b[0m_prun_fn\u001b[0m\u001b[0;34m,\u001b[0m \u001b[0mhandle\u001b[0m\u001b[0;34m,\u001b[0m \u001b[0mfeeds\u001b[0m\u001b[0;34m,\u001b[0m \u001b[0mfetches\u001b[0m\u001b[0;34m)\u001b[0m\u001b[0;34m\u001b[0m\u001b[0;34m\u001b[0m\u001b[0m\n",
      "\u001b[0;32m/usr/local/lib/python3.7/dist-packages/tensorflow_core/python/client/session.py\u001b[0m in \u001b[0;36m_do_call\u001b[0;34m(self, fn, *args)\u001b[0m\n\u001b[1;32m   1363\u001b[0m   \u001b[0;32mdef\u001b[0m \u001b[0m_do_call\u001b[0m\u001b[0;34m(\u001b[0m\u001b[0mself\u001b[0m\u001b[0;34m,\u001b[0m \u001b[0mfn\u001b[0m\u001b[0;34m,\u001b[0m \u001b[0;34m*\u001b[0m\u001b[0margs\u001b[0m\u001b[0;34m)\u001b[0m\u001b[0;34m:\u001b[0m\u001b[0;34m\u001b[0m\u001b[0;34m\u001b[0m\u001b[0m\n\u001b[1;32m   1364\u001b[0m     \u001b[0;32mtry\u001b[0m\u001b[0;34m:\u001b[0m\u001b[0;34m\u001b[0m\u001b[0;34m\u001b[0m\u001b[0m\n\u001b[0;32m-> 1365\u001b[0;31m       \u001b[0;32mreturn\u001b[0m \u001b[0mfn\u001b[0m\u001b[0;34m(\u001b[0m\u001b[0;34m*\u001b[0m\u001b[0margs\u001b[0m\u001b[0;34m)\u001b[0m\u001b[0;34m\u001b[0m\u001b[0;34m\u001b[0m\u001b[0m\n\u001b[0m\u001b[1;32m   1366\u001b[0m     \u001b[0;32mexcept\u001b[0m \u001b[0merrors\u001b[0m\u001b[0;34m.\u001b[0m\u001b[0mOpError\u001b[0m \u001b[0;32mas\u001b[0m \u001b[0me\u001b[0m\u001b[0;34m:\u001b[0m\u001b[0;34m\u001b[0m\u001b[0;34m\u001b[0m\u001b[0m\n\u001b[1;32m   1367\u001b[0m       \u001b[0mmessage\u001b[0m \u001b[0;34m=\u001b[0m \u001b[0mcompat\u001b[0m\u001b[0;34m.\u001b[0m\u001b[0mas_text\u001b[0m\u001b[0;34m(\u001b[0m\u001b[0me\u001b[0m\u001b[0;34m.\u001b[0m\u001b[0mmessage\u001b[0m\u001b[0;34m)\u001b[0m\u001b[0;34m\u001b[0m\u001b[0;34m\u001b[0m\u001b[0m\n",
      "\u001b[0;32m/usr/local/lib/python3.7/dist-packages/tensorflow_core/python/client/session.py\u001b[0m in \u001b[0;36m_run_fn\u001b[0;34m(feed_dict, fetch_list, target_list, options, run_metadata)\u001b[0m\n\u001b[1;32m   1348\u001b[0m       \u001b[0mself\u001b[0m\u001b[0;34m.\u001b[0m\u001b[0m_extend_graph\u001b[0m\u001b[0;34m(\u001b[0m\u001b[0;34m)\u001b[0m\u001b[0;34m\u001b[0m\u001b[0;34m\u001b[0m\u001b[0m\n\u001b[1;32m   1349\u001b[0m       return self._call_tf_sessionrun(options, feed_dict, fetch_list,\n\u001b[0;32m-> 1350\u001b[0;31m                                       target_list, run_metadata)\n\u001b[0m\u001b[1;32m   1351\u001b[0m \u001b[0;34m\u001b[0m\u001b[0m\n\u001b[1;32m   1352\u001b[0m     \u001b[0;32mdef\u001b[0m \u001b[0m_prun_fn\u001b[0m\u001b[0;34m(\u001b[0m\u001b[0mhandle\u001b[0m\u001b[0;34m,\u001b[0m \u001b[0mfeed_dict\u001b[0m\u001b[0;34m,\u001b[0m \u001b[0mfetch_list\u001b[0m\u001b[0;34m)\u001b[0m\u001b[0;34m:\u001b[0m\u001b[0;34m\u001b[0m\u001b[0;34m\u001b[0m\u001b[0m\n",
      "\u001b[0;32m/usr/local/lib/python3.7/dist-packages/tensorflow_core/python/client/session.py\u001b[0m in \u001b[0;36m_call_tf_sessionrun\u001b[0;34m(self, options, feed_dict, fetch_list, target_list, run_metadata)\u001b[0m\n\u001b[1;32m   1441\u001b[0m     return tf_session.TF_SessionRun_wrapper(self._session, options, feed_dict,\n\u001b[1;32m   1442\u001b[0m                                             \u001b[0mfetch_list\u001b[0m\u001b[0;34m,\u001b[0m \u001b[0mtarget_list\u001b[0m\u001b[0;34m,\u001b[0m\u001b[0;34m\u001b[0m\u001b[0;34m\u001b[0m\u001b[0m\n\u001b[0;32m-> 1443\u001b[0;31m                                             run_metadata)\n\u001b[0m\u001b[1;32m   1444\u001b[0m \u001b[0;34m\u001b[0m\u001b[0m\n\u001b[1;32m   1445\u001b[0m   \u001b[0;32mdef\u001b[0m \u001b[0m_call_tf_sessionprun\u001b[0m\u001b[0;34m(\u001b[0m\u001b[0mself\u001b[0m\u001b[0;34m,\u001b[0m \u001b[0mhandle\u001b[0m\u001b[0;34m,\u001b[0m \u001b[0mfeed_dict\u001b[0m\u001b[0;34m,\u001b[0m \u001b[0mfetch_list\u001b[0m\u001b[0;34m)\u001b[0m\u001b[0;34m:\u001b[0m\u001b[0;34m\u001b[0m\u001b[0;34m\u001b[0m\u001b[0m\n",
      "\u001b[0;31mKeyboardInterrupt\u001b[0m: "
     ]
    }
   ],
   "source": [
    "# 训练过程\n",
    "max_batch_n_2 = train_df.shape[0] // total_num01\n",
    "epoch_n = 20000 * max_batch_n_2\n",
    "progress = tqdm_notebook(range(epoch_n))\n",
    "\n",
    "LR_PRIMAL = 1e-5\n",
    "LR_DUAL = 2e-5\n",
    "\n",
    "for i in progress:\n",
    "    Xa, Xb, Yy = GetBatchData_2(sentences_vector)\n",
    "\n",
    "    _, loss1, loss2 = sess.run([train_op2, loss_1, loss_2], feed_dict={x_a:Xa, x_b:Xb, y:Yy})\n",
    "    progress.set_description('loss1 = %.5f, loss2 = %.4f - '%(loss1,loss2))\n",
    "\n",
    "    num_0 = random.randint(8,total_num01)\n",
    "    num_1 = total_num01 - num_0      \n",
    "\n",
    "    if (i < max_batch_n_2 * 20000):\n",
    "        temp = 5*max_batch_n_2\n",
    "    else:\n",
    "        temp = max_batch_n_2\n",
    "#     temp = max_batch_n_2\n",
    "    if i % temp == 0:\n",
    "        e_a, v_a = encoder(X_a)\n",
    "        e_b, v_b = encoder(X_b)\n",
    "        \n",
    "        v_a = tf.exp(v_a)\n",
    "        v_b = tf.exp(v_b)\n",
    "        \n",
    "        wd_disc, wd_vector = Get2_WD(e_a, v_a, e_b, v_b)\n",
    "\n",
    "        # sess.run(wd_vector)\n",
    "        output = classify_model(wd_vector)\n",
    "        # output = tf.argmax(output, 1)\n",
    "        output = sess.run(output)\n",
    "        out = np.argmax(output, 1)\n",
    "\n",
    "        precision = metrics.precision_score(Y, out)\n",
    "        recall = metrics.recall_score(Y, out)\n",
    "        f1_score = metrics.f1_score(Y, out)\n",
    "        \n",
    "        if f1_score > F1:\n",
    "            F1,P,R = f1_score, precision, recall\n",
    "            print('epoch = %d, precision = %.3f, recall = %.3f, f1_score = %.4f'%(i,precision,recall,f1_score))\n"
   ]
  },
  {
   "cell_type": "markdown",
   "metadata": {
    "id": "QAwAjNKQg3Ai"
   },
   "source": [
    "*  precision = 0.991, recall = 0.975, f1_score = 0.9830\n",
    "*  precision = 0.980, recall = 0.986, f1_score = 0.9832\n",
    "*  precision = 0.984, recall = 0.984, f1_score = 0.9842"
   ]
  },
  {
   "cell_type": "code",
   "execution_count": null,
   "metadata": {
    "id": "ifxZG6Pqg3Ai"
   },
   "outputs": [],
   "source": []
  }
 ],
 "metadata": {
  "accelerator": "GPU",
  "colab": {
   "collapsed_sections": [],
   "machine_shape": "hm",
   "name": "TAVER.ipynb",
   "provenance": []
  },
  "gpuClass": "standard",
  "kernelspec": {
   "display_name": "Python 3",
   "language": "python",
   "name": "python3"
  },
  "language_info": {
   "codemirror_mode": {
    "name": "ipython",
    "version": 3
   },
   "file_extension": ".py",
   "mimetype": "text/x-python",
   "name": "python",
   "nbconvert_exporter": "python",
   "pygments_lexer": "ipython3",
   "version": "3.7.1"
  },
  "widgets": {
   "application/vnd.jupyter.widget-state+json": {
    "04d7c7b94dbb4146aa194dc003c391be": {
     "model_module": "@jupyter-widgets/controls",
     "model_module_version": "1.5.0",
     "model_name": "FloatProgressModel",
     "state": {
      "_dom_classes": [],
      "_model_module": "@jupyter-widgets/controls",
      "_model_module_version": "1.5.0",
      "_model_name": "FloatProgressModel",
      "_view_count": null,
      "_view_module": "@jupyter-widgets/controls",
      "_view_module_version": "1.5.0",
      "_view_name": "ProgressView",
      "bar_style": "success",
      "description": "",
      "description_tooltip": null,
      "layout": "IPY_MODEL_097bcf6601d44ecfb3615bc1d847d189",
      "max": 13320,
      "min": 0,
      "orientation": "horizontal",
      "style": "IPY_MODEL_a5249c87367148d78d82dce93af2353d",
      "value": 13320
     }
    },
    "097bcf6601d44ecfb3615bc1d847d189": {
     "model_module": "@jupyter-widgets/base",
     "model_module_version": "1.2.0",
     "model_name": "LayoutModel",
     "state": {
      "_model_module": "@jupyter-widgets/base",
      "_model_module_version": "1.2.0",
      "_model_name": "LayoutModel",
      "_view_count": null,
      "_view_module": "@jupyter-widgets/base",
      "_view_module_version": "1.2.0",
      "_view_name": "LayoutView",
      "align_content": null,
      "align_items": null,
      "align_self": null,
      "border": null,
      "bottom": null,
      "display": null,
      "flex": null,
      "flex_flow": null,
      "grid_area": null,
      "grid_auto_columns": null,
      "grid_auto_flow": null,
      "grid_auto_rows": null,
      "grid_column": null,
      "grid_gap": null,
      "grid_row": null,
      "grid_template_areas": null,
      "grid_template_columns": null,
      "grid_template_rows": null,
      "height": null,
      "justify_content": null,
      "justify_items": null,
      "left": null,
      "margin": null,
      "max_height": null,
      "max_width": null,
      "min_height": null,
      "min_width": null,
      "object_fit": null,
      "object_position": null,
      "order": null,
      "overflow": null,
      "overflow_x": null,
      "overflow_y": null,
      "padding": null,
      "right": null,
      "top": null,
      "visibility": null,
      "width": null
     }
    },
    "1153eb49894e421eb475fc687e1c1a8a": {
     "model_module": "@jupyter-widgets/controls",
     "model_module_version": "1.5.0",
     "model_name": "HTMLModel",
     "state": {
      "_dom_classes": [],
      "_model_module": "@jupyter-widgets/controls",
      "_model_module_version": "1.5.0",
      "_model_name": "HTMLModel",
      "_view_count": null,
      "_view_module": "@jupyter-widgets/controls",
      "_view_module_version": "1.5.0",
      "_view_name": "HTMLView",
      "description": "",
      "description_tooltip": null,
      "layout": "IPY_MODEL_468189a1851c442fad560c6a1b12daa7",
      "placeholder": "​",
      "style": "IPY_MODEL_a89197477c5640999bc1825eabe79152",
      "value": " 1056823/7400000 [2:00:34&lt;11:06:23, 158.64it/s]"
     }
    },
    "135973760e664d73a59a5ab9d32c98a3": {
     "model_module": "@jupyter-widgets/base",
     "model_module_version": "1.2.0",
     "model_name": "LayoutModel",
     "state": {
      "_model_module": "@jupyter-widgets/base",
      "_model_module_version": "1.2.0",
      "_model_name": "LayoutModel",
      "_view_count": null,
      "_view_module": "@jupyter-widgets/base",
      "_view_module_version": "1.2.0",
      "_view_name": "LayoutView",
      "align_content": null,
      "align_items": null,
      "align_self": null,
      "border": null,
      "bottom": null,
      "display": null,
      "flex": null,
      "flex_flow": null,
      "grid_area": null,
      "grid_auto_columns": null,
      "grid_auto_flow": null,
      "grid_auto_rows": null,
      "grid_column": null,
      "grid_gap": null,
      "grid_row": null,
      "grid_template_areas": null,
      "grid_template_columns": null,
      "grid_template_rows": null,
      "height": null,
      "justify_content": null,
      "justify_items": null,
      "left": null,
      "margin": null,
      "max_height": null,
      "max_width": null,
      "min_height": null,
      "min_width": null,
      "object_fit": null,
      "object_position": null,
      "order": null,
      "overflow": null,
      "overflow_x": null,
      "overflow_y": null,
      "padding": null,
      "right": null,
      "top": null,
      "visibility": null,
      "width": null
     }
    },
    "2e804e8b78e843a086d97970879bca16": {
     "model_module": "@jupyter-widgets/base",
     "model_module_version": "1.2.0",
     "model_name": "LayoutModel",
     "state": {
      "_model_module": "@jupyter-widgets/base",
      "_model_module_version": "1.2.0",
      "_model_name": "LayoutModel",
      "_view_count": null,
      "_view_module": "@jupyter-widgets/base",
      "_view_module_version": "1.2.0",
      "_view_name": "LayoutView",
      "align_content": null,
      "align_items": null,
      "align_self": null,
      "border": null,
      "bottom": null,
      "display": null,
      "flex": null,
      "flex_flow": null,
      "grid_area": null,
      "grid_auto_columns": null,
      "grid_auto_flow": null,
      "grid_auto_rows": null,
      "grid_column": null,
      "grid_gap": null,
      "grid_row": null,
      "grid_template_areas": null,
      "grid_template_columns": null,
      "grid_template_rows": null,
      "height": null,
      "justify_content": null,
      "justify_items": null,
      "left": null,
      "margin": null,
      "max_height": null,
      "max_width": null,
      "min_height": null,
      "min_width": null,
      "object_fit": null,
      "object_position": null,
      "order": null,
      "overflow": null,
      "overflow_x": null,
      "overflow_y": null,
      "padding": null,
      "right": null,
      "top": null,
      "visibility": null,
      "width": null
     }
    },
    "324816bb138b46b28ee043d0917d73eb": {
     "model_module": "@jupyter-widgets/controls",
     "model_module_version": "1.5.0",
     "model_name": "HBoxModel",
     "state": {
      "_dom_classes": [],
      "_model_module": "@jupyter-widgets/controls",
      "_model_module_version": "1.5.0",
      "_model_name": "HBoxModel",
      "_view_count": null,
      "_view_module": "@jupyter-widgets/controls",
      "_view_module_version": "1.5.0",
      "_view_name": "HBoxView",
      "box_style": "",
      "children": [
       "IPY_MODEL_3fa169de77b94db0a6c0729206a22606",
       "IPY_MODEL_04d7c7b94dbb4146aa194dc003c391be",
       "IPY_MODEL_a51ba2a7521749a2b5862c2a875a3ae6"
      ],
      "layout": "IPY_MODEL_de7c55dbe4414ffb98699988da197013"
     }
    },
    "36323f5f48a44b79aae97a97f2becd78": {
     "model_module": "@jupyter-widgets/base",
     "model_module_version": "1.2.0",
     "model_name": "LayoutModel",
     "state": {
      "_model_module": "@jupyter-widgets/base",
      "_model_module_version": "1.2.0",
      "_model_name": "LayoutModel",
      "_view_count": null,
      "_view_module": "@jupyter-widgets/base",
      "_view_module_version": "1.2.0",
      "_view_name": "LayoutView",
      "align_content": null,
      "align_items": null,
      "align_self": null,
      "border": null,
      "bottom": null,
      "display": null,
      "flex": null,
      "flex_flow": null,
      "grid_area": null,
      "grid_auto_columns": null,
      "grid_auto_flow": null,
      "grid_auto_rows": null,
      "grid_column": null,
      "grid_gap": null,
      "grid_row": null,
      "grid_template_areas": null,
      "grid_template_columns": null,
      "grid_template_rows": null,
      "height": null,
      "justify_content": null,
      "justify_items": null,
      "left": null,
      "margin": null,
      "max_height": null,
      "max_width": null,
      "min_height": null,
      "min_width": null,
      "object_fit": null,
      "object_position": null,
      "order": null,
      "overflow": null,
      "overflow_x": null,
      "overflow_y": null,
      "padding": null,
      "right": null,
      "top": null,
      "visibility": null,
      "width": null
     }
    },
    "372037dc87064cfb83a1095e4fecdd4b": {
     "model_module": "@jupyter-widgets/controls",
     "model_module_version": "1.5.0",
     "model_name": "HTMLModel",
     "state": {
      "_dom_classes": [],
      "_model_module": "@jupyter-widgets/controls",
      "_model_module_version": "1.5.0",
      "_model_name": "HTMLModel",
      "_view_count": null,
      "_view_module": "@jupyter-widgets/controls",
      "_view_module_version": "1.5.0",
      "_view_name": "HTMLView",
      "description": "",
      "description_tooltip": null,
      "layout": "IPY_MODEL_135973760e664d73a59a5ab9d32c98a3",
      "placeholder": "​",
      "style": "IPY_MODEL_cf096de524da47e8a8d5b0e1f373ad4b",
      "value": "loss1 = 0.00000, loss2 = 0.3750 - :  14%"
     }
    },
    "3fa169de77b94db0a6c0729206a22606": {
     "model_module": "@jupyter-widgets/controls",
     "model_module_version": "1.5.0",
     "model_name": "HTMLModel",
     "state": {
      "_dom_classes": [],
      "_model_module": "@jupyter-widgets/controls",
      "_model_module_version": "1.5.0",
      "_model_name": "HTMLModel",
      "_view_count": null,
      "_view_module": "@jupyter-widgets/controls",
      "_view_module_version": "1.5.0",
      "_view_name": "HTMLView",
      "description": "",
      "description_tooltip": null,
      "layout": "IPY_MODEL_8dbe397189a34bb795b01098dd87f1b8",
      "placeholder": "​",
      "style": "IPY_MODEL_bb87430cf1324e59b9272e6b2016893e",
      "value": "loss_primal= 0.0594, loss_dual= 2.3855, re=1.8334 - : 100%"
     }
    },
    "468189a1851c442fad560c6a1b12daa7": {
     "model_module": "@jupyter-widgets/base",
     "model_module_version": "1.2.0",
     "model_name": "LayoutModel",
     "state": {
      "_model_module": "@jupyter-widgets/base",
      "_model_module_version": "1.2.0",
      "_model_name": "LayoutModel",
      "_view_count": null,
      "_view_module": "@jupyter-widgets/base",
      "_view_module_version": "1.2.0",
      "_view_name": "LayoutView",
      "align_content": null,
      "align_items": null,
      "align_self": null,
      "border": null,
      "bottom": null,
      "display": null,
      "flex": null,
      "flex_flow": null,
      "grid_area": null,
      "grid_auto_columns": null,
      "grid_auto_flow": null,
      "grid_auto_rows": null,
      "grid_column": null,
      "grid_gap": null,
      "grid_row": null,
      "grid_template_areas": null,
      "grid_template_columns": null,
      "grid_template_rows": null,
      "height": null,
      "justify_content": null,
      "justify_items": null,
      "left": null,
      "margin": null,
      "max_height": null,
      "max_width": null,
      "min_height": null,
      "min_width": null,
      "object_fit": null,
      "object_position": null,
      "order": null,
      "overflow": null,
      "overflow_x": null,
      "overflow_y": null,
      "padding": null,
      "right": null,
      "top": null,
      "visibility": null,
      "width": null
     }
    },
    "49d6b44cdcd54e0ea6375e65fd0c4cea": {
     "model_module": "@jupyter-widgets/controls",
     "model_module_version": "1.5.0",
     "model_name": "DescriptionStyleModel",
     "state": {
      "_model_module": "@jupyter-widgets/controls",
      "_model_module_version": "1.5.0",
      "_model_name": "DescriptionStyleModel",
      "_view_count": null,
      "_view_module": "@jupyter-widgets/base",
      "_view_module_version": "1.2.0",
      "_view_name": "StyleView",
      "description_width": ""
     }
    },
    "567ed994520a441fa3a30ec8c0aafe6f": {
     "model_module": "@jupyter-widgets/controls",
     "model_module_version": "1.5.0",
     "model_name": "ProgressStyleModel",
     "state": {
      "_model_module": "@jupyter-widgets/controls",
      "_model_module_version": "1.5.0",
      "_model_name": "ProgressStyleModel",
      "_view_count": null,
      "_view_module": "@jupyter-widgets/base",
      "_view_module_version": "1.2.0",
      "_view_name": "StyleView",
      "bar_color": null,
      "description_width": ""
     }
    },
    "6c36456fa80749b6981c1b01abbba7b2": {
     "model_module": "@jupyter-widgets/controls",
     "model_module_version": "1.5.0",
     "model_name": "HBoxModel",
     "state": {
      "_dom_classes": [],
      "_model_module": "@jupyter-widgets/controls",
      "_model_module_version": "1.5.0",
      "_model_name": "HBoxModel",
      "_view_count": null,
      "_view_module": "@jupyter-widgets/controls",
      "_view_module_version": "1.5.0",
      "_view_name": "HBoxView",
      "box_style": "",
      "children": [
       "IPY_MODEL_372037dc87064cfb83a1095e4fecdd4b",
       "IPY_MODEL_e23479babb1348edaad08a29d936e40b",
       "IPY_MODEL_1153eb49894e421eb475fc687e1c1a8a"
      ],
      "layout": "IPY_MODEL_2e804e8b78e843a086d97970879bca16"
     }
    },
    "8dbe397189a34bb795b01098dd87f1b8": {
     "model_module": "@jupyter-widgets/base",
     "model_module_version": "1.2.0",
     "model_name": "LayoutModel",
     "state": {
      "_model_module": "@jupyter-widgets/base",
      "_model_module_version": "1.2.0",
      "_model_name": "LayoutModel",
      "_view_count": null,
      "_view_module": "@jupyter-widgets/base",
      "_view_module_version": "1.2.0",
      "_view_name": "LayoutView",
      "align_content": null,
      "align_items": null,
      "align_self": null,
      "border": null,
      "bottom": null,
      "display": null,
      "flex": null,
      "flex_flow": null,
      "grid_area": null,
      "grid_auto_columns": null,
      "grid_auto_flow": null,
      "grid_auto_rows": null,
      "grid_column": null,
      "grid_gap": null,
      "grid_row": null,
      "grid_template_areas": null,
      "grid_template_columns": null,
      "grid_template_rows": null,
      "height": null,
      "justify_content": null,
      "justify_items": null,
      "left": null,
      "margin": null,
      "max_height": null,
      "max_width": null,
      "min_height": null,
      "min_width": null,
      "object_fit": null,
      "object_position": null,
      "order": null,
      "overflow": null,
      "overflow_x": null,
      "overflow_y": null,
      "padding": null,
      "right": null,
      "top": null,
      "visibility": null,
      "width": null
     }
    },
    "a51ba2a7521749a2b5862c2a875a3ae6": {
     "model_module": "@jupyter-widgets/controls",
     "model_module_version": "1.5.0",
     "model_name": "HTMLModel",
     "state": {
      "_dom_classes": [],
      "_model_module": "@jupyter-widgets/controls",
      "_model_module_version": "1.5.0",
      "_model_name": "HTMLModel",
      "_view_count": null,
      "_view_module": "@jupyter-widgets/controls",
      "_view_module_version": "1.5.0",
      "_view_name": "HTMLView",
      "description": "",
      "description_tooltip": null,
      "layout": "IPY_MODEL_36323f5f48a44b79aae97a97f2becd78",
      "placeholder": "​",
      "style": "IPY_MODEL_49d6b44cdcd54e0ea6375e65fd0c4cea",
      "value": " 13320/13320 [13:33&lt;00:00, 16.50it/s]"
     }
    },
    "a5249c87367148d78d82dce93af2353d": {
     "model_module": "@jupyter-widgets/controls",
     "model_module_version": "1.5.0",
     "model_name": "ProgressStyleModel",
     "state": {
      "_model_module": "@jupyter-widgets/controls",
      "_model_module_version": "1.5.0",
      "_model_name": "ProgressStyleModel",
      "_view_count": null,
      "_view_module": "@jupyter-widgets/base",
      "_view_module_version": "1.2.0",
      "_view_name": "StyleView",
      "bar_color": null,
      "description_width": ""
     }
    },
    "a89197477c5640999bc1825eabe79152": {
     "model_module": "@jupyter-widgets/controls",
     "model_module_version": "1.5.0",
     "model_name": "DescriptionStyleModel",
     "state": {
      "_model_module": "@jupyter-widgets/controls",
      "_model_module_version": "1.5.0",
      "_model_name": "DescriptionStyleModel",
      "_view_count": null,
      "_view_module": "@jupyter-widgets/base",
      "_view_module_version": "1.2.0",
      "_view_name": "StyleView",
      "description_width": ""
     }
    },
    "bb87430cf1324e59b9272e6b2016893e": {
     "model_module": "@jupyter-widgets/controls",
     "model_module_version": "1.5.0",
     "model_name": "DescriptionStyleModel",
     "state": {
      "_model_module": "@jupyter-widgets/controls",
      "_model_module_version": "1.5.0",
      "_model_name": "DescriptionStyleModel",
      "_view_count": null,
      "_view_module": "@jupyter-widgets/base",
      "_view_module_version": "1.2.0",
      "_view_name": "StyleView",
      "description_width": ""
     }
    },
    "c603c49e8f1b4e5497e38a7a08d1fc8b": {
     "model_module": "@jupyter-widgets/base",
     "model_module_version": "1.2.0",
     "model_name": "LayoutModel",
     "state": {
      "_model_module": "@jupyter-widgets/base",
      "_model_module_version": "1.2.0",
      "_model_name": "LayoutModel",
      "_view_count": null,
      "_view_module": "@jupyter-widgets/base",
      "_view_module_version": "1.2.0",
      "_view_name": "LayoutView",
      "align_content": null,
      "align_items": null,
      "align_self": null,
      "border": null,
      "bottom": null,
      "display": null,
      "flex": null,
      "flex_flow": null,
      "grid_area": null,
      "grid_auto_columns": null,
      "grid_auto_flow": null,
      "grid_auto_rows": null,
      "grid_column": null,
      "grid_gap": null,
      "grid_row": null,
      "grid_template_areas": null,
      "grid_template_columns": null,
      "grid_template_rows": null,
      "height": null,
      "justify_content": null,
      "justify_items": null,
      "left": null,
      "margin": null,
      "max_height": null,
      "max_width": null,
      "min_height": null,
      "min_width": null,
      "object_fit": null,
      "object_position": null,
      "order": null,
      "overflow": null,
      "overflow_x": null,
      "overflow_y": null,
      "padding": null,
      "right": null,
      "top": null,
      "visibility": null,
      "width": null
     }
    },
    "cf096de524da47e8a8d5b0e1f373ad4b": {
     "model_module": "@jupyter-widgets/controls",
     "model_module_version": "1.5.0",
     "model_name": "DescriptionStyleModel",
     "state": {
      "_model_module": "@jupyter-widgets/controls",
      "_model_module_version": "1.5.0",
      "_model_name": "DescriptionStyleModel",
      "_view_count": null,
      "_view_module": "@jupyter-widgets/base",
      "_view_module_version": "1.2.0",
      "_view_name": "StyleView",
      "description_width": ""
     }
    },
    "de7c55dbe4414ffb98699988da197013": {
     "model_module": "@jupyter-widgets/base",
     "model_module_version": "1.2.0",
     "model_name": "LayoutModel",
     "state": {
      "_model_module": "@jupyter-widgets/base",
      "_model_module_version": "1.2.0",
      "_model_name": "LayoutModel",
      "_view_count": null,
      "_view_module": "@jupyter-widgets/base",
      "_view_module_version": "1.2.0",
      "_view_name": "LayoutView",
      "align_content": null,
      "align_items": null,
      "align_self": null,
      "border": null,
      "bottom": null,
      "display": null,
      "flex": null,
      "flex_flow": null,
      "grid_area": null,
      "grid_auto_columns": null,
      "grid_auto_flow": null,
      "grid_auto_rows": null,
      "grid_column": null,
      "grid_gap": null,
      "grid_row": null,
      "grid_template_areas": null,
      "grid_template_columns": null,
      "grid_template_rows": null,
      "height": null,
      "justify_content": null,
      "justify_items": null,
      "left": null,
      "margin": null,
      "max_height": null,
      "max_width": null,
      "min_height": null,
      "min_width": null,
      "object_fit": null,
      "object_position": null,
      "order": null,
      "overflow": null,
      "overflow_x": null,
      "overflow_y": null,
      "padding": null,
      "right": null,
      "top": null,
      "visibility": null,
      "width": null
     }
    },
    "e23479babb1348edaad08a29d936e40b": {
     "model_module": "@jupyter-widgets/controls",
     "model_module_version": "1.5.0",
     "model_name": "FloatProgressModel",
     "state": {
      "_dom_classes": [],
      "_model_module": "@jupyter-widgets/controls",
      "_model_module_version": "1.5.0",
      "_model_name": "FloatProgressModel",
      "_view_count": null,
      "_view_module": "@jupyter-widgets/controls",
      "_view_module_version": "1.5.0",
      "_view_name": "ProgressView",
      "bar_style": "danger",
      "description": "",
      "description_tooltip": null,
      "layout": "IPY_MODEL_c603c49e8f1b4e5497e38a7a08d1fc8b",
      "max": 7400000,
      "min": 0,
      "orientation": "horizontal",
      "style": "IPY_MODEL_567ed994520a441fa3a30ec8c0aafe6f",
      "value": 1056823
     }
    }
   }
  }
 },
 "nbformat": 4,
 "nbformat_minor": 5
}
